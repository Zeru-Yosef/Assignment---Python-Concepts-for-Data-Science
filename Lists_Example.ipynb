{
 "cells": [
  {
   "cell_type": "code",
   "execution_count": 1,
   "metadata": {},
   "outputs": [],
   "source": [
    "#Empyty List\n",
    "Departments = []"
   ]
  },
  {
   "cell_type": "code",
   "execution_count": 2,
   "metadata": {},
   "outputs": [
    {
     "name": "stdout",
     "output_type": "stream",
     "text": [
      "['OutPatient', 'Inpatient', 'Dermatology', 'STI', 'Surgical', 'Onchology', 'Optalmology']\n"
     ]
    }
   ],
   "source": [
    "#List Containing departments In the Hospital\n",
    "Departments = [\"OutPatient\", \"Inpatient\", \"Dermatology\", \"STI\", \"Surgical\", \"Onchology\", \"Optalmology\"]\n",
    "print(Departments)"
   ]
  },
  {
   "cell_type": "code",
   "execution_count": 9,
   "metadata": {},
   "outputs": [
    {
     "name": "stdout",
     "output_type": "stream",
     "text": [
      "[['OutPatient', 'Inpatient', 'Dermatology', 'STI', 'Surgical', 'Onchology', 'Optalmology'], 4, 5, 'Laboratory', 'Pharmacy', 'ART-Clinic']\n"
     ]
    }
   ],
   "source": [
    "#List containiing other lists...Nested List\n",
    "Departments = [\"OutPatient\", \"Inpatient\", \"Dermatology\", \"STI\", \"Surgical\", \"Onchology\", \"Optalmology\"]\n",
    "Departments_2 = [Departments, 4, 5, \"Laboratory\", \"Pharmacy\", \"ART-Clinic\"]\n",
    "print(Departments_2)"
   ]
  },
  {
   "cell_type": "code",
   "execution_count": 13,
   "metadata": {},
   "outputs": [
    {
     "name": "stdout",
     "output_type": "stream",
     "text": [
      "7\n",
      "6\n"
     ]
    }
   ],
   "source": [
    "#To see how many items are in the list\n",
    "Departments = [\"OutPatient\", \"Inpatient\", \"Dermatology\", \"STI\", \"Surgical\", \"Onchology\", \"Optalmology\"]\n",
    "print(len(Departments))\n",
    "Departments_2 = [Departments, 4, 5, \"Laboratory\", \"Pharmacy\", \"ART-Clinic\"]\n",
    "print(len(Departments_2))"
   ]
  },
  {
   "cell_type": "code",
   "execution_count": 16,
   "metadata": {},
   "outputs": [
    {
     "name": "stdout",
     "output_type": "stream",
     "text": [
      "<class 'list'>\n",
      "<class 'list'>\n"
     ]
    }
   ],
   "source": [
    "#Check types of data in the list\n",
    "Departments = [\"OutPatient\", \"Inpatient\", \"Dermatology\", \"STI\", \"Surgical\", \"Onchology\", \"Optalmology\"]\n",
    "print(type(Departments))\n",
    "Integers = [1,2,3,4,5]\n",
    "print(type(Integers))"
   ]
  },
  {
   "cell_type": "code",
   "execution_count": 19,
   "metadata": {},
   "outputs": [
    {
     "name": "stdout",
     "output_type": "stream",
     "text": [
      "OutPatient\n",
      "Inpatient\n",
      "['OutPatient', 'Inpatient', 'Dermatology', 'STI']\n"
     ]
    }
   ],
   "source": [
    "#Displaying Lists using Indexes\n",
    "Departments = [\"OutPatient\", \"Inpatient\", \"Dermatology\", \"STI\", \"Surgical\", \"Onchology\", \"Optalmology\"]\n",
    "print(Departments[0])\n",
    "print(Departments[1])\n",
    "#displaying range of valuse from the list\n",
    "print(Departments[0:4])"
   ]
  },
  {
   "cell_type": "code",
   "execution_count": null,
   "metadata": {},
   "outputs": [],
   "source": []
  }
 ],
 "metadata": {
  "kernelspec": {
   "display_name": "Python 3",
   "language": "python",
   "name": "python3"
  },
  "language_info": {
   "codemirror_mode": {
    "name": "ipython",
    "version": 3
   },
   "file_extension": ".py",
   "mimetype": "text/x-python",
   "name": "python",
   "nbconvert_exporter": "python",
   "pygments_lexer": "ipython3",
   "version": "3.8.5"
  }
 },
 "nbformat": 4,
 "nbformat_minor": 4
}
